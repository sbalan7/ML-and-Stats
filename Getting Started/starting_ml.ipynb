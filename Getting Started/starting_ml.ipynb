{
 "cells": [
  {
   "cell_type": "markdown",
   "metadata": {},
   "source": [
    "## Getting started with a dataset"
   ]
  },
  {
   "cell_type": "markdown",
   "metadata": {},
   "source": [
    "The first step would be to read the data and explore through it."
   ]
  },
  {
   "cell_type": "code",
   "execution_count": 204,
   "metadata": {},
   "outputs": [],
   "source": [
    "import numpy as np\n",
    "import pandas as pd\n",
    "import matplotlib.pyplot as plt\n",
    "from sklearn.svm import SVC\n",
    "from sklearn.model_selection import train_test_split\n",
    "from sklearn.preprocessing import MinMaxScaler\n",
    "from sklearn.preprocessing import LabelEncoder\n",
    "from sklearn.impute import SimpleImputer\n",
    "import seaborn as sns"
   ]
  },
  {
   "cell_type": "code",
   "execution_count": 205,
   "metadata": {},
   "outputs": [
    {
     "data": {
      "text/html": [
       "<div>\n",
       "<style scoped>\n",
       "    .dataframe tbody tr th:only-of-type {\n",
       "        vertical-align: middle;\n",
       "    }\n",
       "\n",
       "    .dataframe tbody tr th {\n",
       "        vertical-align: top;\n",
       "    }\n",
       "\n",
       "    .dataframe thead th {\n",
       "        text-align: right;\n",
       "    }\n",
       "</style>\n",
       "<table border=\"1\" class=\"dataframe\">\n",
       "  <thead>\n",
       "    <tr style=\"text-align: right;\">\n",
       "      <th></th>\n",
       "      <th>x0</th>\n",
       "      <th>x1</th>\n",
       "      <th>x2</th>\n",
       "      <th>x3</th>\n",
       "      <th>x4</th>\n",
       "      <th>y</th>\n",
       "    </tr>\n",
       "  </thead>\n",
       "  <tbody>\n",
       "    <tr>\n",
       "      <th>0</th>\n",
       "      <td>lyseevu</td>\n",
       "      <td>2.327526</td>\n",
       "      <td>7.327260</td>\n",
       "      <td>10.909794</td>\n",
       "      <td>g</td>\n",
       "      <td>1.0</td>\n",
       "    </tr>\n",
       "    <tr>\n",
       "      <th>1</th>\n",
       "      <td>ynlaqgkj</td>\n",
       "      <td>0.128880</td>\n",
       "      <td>2.412095</td>\n",
       "      <td>2.547748</td>\n",
       "      <td>p</td>\n",
       "      <td>0.0</td>\n",
       "    </tr>\n",
       "    <tr>\n",
       "      <th>2</th>\n",
       "      <td>vxfihcgyhndi</td>\n",
       "      <td>1.436324</td>\n",
       "      <td>6.600719</td>\n",
       "      <td>22.627917</td>\n",
       "      <td>p</td>\n",
       "      <td>1.0</td>\n",
       "    </tr>\n",
       "    <tr>\n",
       "      <th>3</th>\n",
       "      <td>kjvoogutxvb</td>\n",
       "      <td>2.014618</td>\n",
       "      <td>6.939049</td>\n",
       "      <td>9.248719</td>\n",
       "      <td>r</td>\n",
       "      <td>1.0</td>\n",
       "    </tr>\n",
       "    <tr>\n",
       "      <th>4</th>\n",
       "      <td>srrssppovjjvp</td>\n",
       "      <td>1.227858</td>\n",
       "      <td>9.976824</td>\n",
       "      <td>18.906464</td>\n",
       "      <td>p</td>\n",
       "      <td>1.0</td>\n",
       "    </tr>\n",
       "    <tr>\n",
       "      <th>...</th>\n",
       "      <td>...</td>\n",
       "      <td>...</td>\n",
       "      <td>...</td>\n",
       "      <td>...</td>\n",
       "      <td>...</td>\n",
       "      <td>...</td>\n",
       "    </tr>\n",
       "    <tr>\n",
       "      <th>195</th>\n",
       "      <td>anxwsrrvdwfv</td>\n",
       "      <td>-0.907478</td>\n",
       "      <td>9.487626</td>\n",
       "      <td>2.898387</td>\n",
       "      <td>r</td>\n",
       "      <td>0.0</td>\n",
       "    </tr>\n",
       "    <tr>\n",
       "      <th>196</th>\n",
       "      <td>bbpptegcqkc</td>\n",
       "      <td>1.284137</td>\n",
       "      <td>0.740918</td>\n",
       "      <td>10.970663</td>\n",
       "      <td>r</td>\n",
       "      <td>0.0</td>\n",
       "    </tr>\n",
       "    <tr>\n",
       "      <th>197</th>\n",
       "      <td>vwoqilzzq</td>\n",
       "      <td>2.214714</td>\n",
       "      <td>5.775563</td>\n",
       "      <td>13.947454</td>\n",
       "      <td>g</td>\n",
       "      <td>1.0</td>\n",
       "    </tr>\n",
       "    <tr>\n",
       "      <th>198</th>\n",
       "      <td>whykrupuod</td>\n",
       "      <td>1.872437</td>\n",
       "      <td>4.844288</td>\n",
       "      <td>2.752800</td>\n",
       "      <td>p</td>\n",
       "      <td>0.0</td>\n",
       "    </tr>\n",
       "    <tr>\n",
       "      <th>199</th>\n",
       "      <td>kxknvgawxn</td>\n",
       "      <td>3.161611</td>\n",
       "      <td>8.097934</td>\n",
       "      <td>-2.130330</td>\n",
       "      <td>r</td>\n",
       "      <td>0.0</td>\n",
       "    </tr>\n",
       "  </tbody>\n",
       "</table>\n",
       "<p>200 rows × 6 columns</p>\n",
       "</div>"
      ],
      "text/plain": [
       "                x0        x1        x2         x3 x4    y\n",
       "0          lyseevu  2.327526  7.327260  10.909794  g  1.0\n",
       "1         ynlaqgkj  0.128880  2.412095   2.547748  p  0.0\n",
       "2     vxfihcgyhndi  1.436324  6.600719  22.627917  p  1.0\n",
       "3      kjvoogutxvb  2.014618  6.939049   9.248719  r  1.0\n",
       "4    srrssppovjjvp  1.227858  9.976824  18.906464  p  1.0\n",
       "..             ...       ...       ...        ... ..  ...\n",
       "195   anxwsrrvdwfv -0.907478  9.487626   2.898387  r  0.0\n",
       "196    bbpptegcqkc  1.284137  0.740918  10.970663  r  0.0\n",
       "197      vwoqilzzq  2.214714  5.775563  13.947454  g  1.0\n",
       "198     whykrupuod  1.872437  4.844288   2.752800  p  0.0\n",
       "199     kxknvgawxn  3.161611  8.097934  -2.130330  r  0.0\n",
       "\n",
       "[200 rows x 6 columns]"
      ]
     },
     "execution_count": 205,
     "metadata": {},
     "output_type": "execute_result"
    }
   ],
   "source": [
    "data = pd.read_csv('dataset.csv')\n",
    "data"
   ]
  },
  {
   "cell_type": "markdown",
   "metadata": {},
   "source": [
    "The data has 5 columns, with the last column being the result. The artificially generated data was made in such a way, it depends only on the columns `x2`, `x3` and `x4`. Let's see if the machine learning model finds this. To go ahead, the first step would be to explore the data."
   ]
  },
  {
   "cell_type": "code",
   "execution_count": 206,
   "metadata": {},
   "outputs": [
    {
     "name": "stdout",
     "output_type": "stream",
     "text": [
      "<class 'pandas.core.frame.DataFrame'>\n",
      "RangeIndex: 200 entries, 0 to 199\n",
      "Data columns (total 6 columns):\n",
      " #   Column  Non-Null Count  Dtype  \n",
      "---  ------  --------------  -----  \n",
      " 0   x0      200 non-null    object \n",
      " 1   x1      197 non-null    float64\n",
      " 2   x2      196 non-null    float64\n",
      " 3   x3      200 non-null    float64\n",
      " 4   x4      197 non-null    object \n",
      " 5   y       200 non-null    float64\n",
      "dtypes: float64(4), object(2)\n",
      "memory usage: 9.5+ KB\n"
     ]
    }
   ],
   "source": [
    "data.info()"
   ]
  },
  {
   "cell_type": "markdown",
   "metadata": {},
   "source": [
    "`x0` seems to have a unique value for every row, encoding for a name of sorts which will not have useful information for the machine learning model. So we can drop it. We find that the data has some null values. Since we can't drop the rows or columns entirely as we will miss out on data, we will have to impute the data. We also find that the column `x4` has categorical variables, so we will convert that into numerical data as well."
   ]
  },
  {
   "cell_type": "code",
   "execution_count": 207,
   "metadata": {},
   "outputs": [],
   "source": [
    "data = data.drop(['x0'], axis=1)"
   ]
  },
  {
   "cell_type": "code",
   "execution_count": 208,
   "metadata": {},
   "outputs": [
    {
     "data": {
      "text/html": [
       "<div>\n",
       "<style scoped>\n",
       "    .dataframe tbody tr th:only-of-type {\n",
       "        vertical-align: middle;\n",
       "    }\n",
       "\n",
       "    .dataframe tbody tr th {\n",
       "        vertical-align: top;\n",
       "    }\n",
       "\n",
       "    .dataframe thead th {\n",
       "        text-align: right;\n",
       "    }\n",
       "</style>\n",
       "<table border=\"1\" class=\"dataframe\">\n",
       "  <thead>\n",
       "    <tr style=\"text-align: right;\">\n",
       "      <th></th>\n",
       "      <th>x1</th>\n",
       "      <th>x2</th>\n",
       "      <th>x3</th>\n",
       "      <th>x4</th>\n",
       "      <th>y</th>\n",
       "    </tr>\n",
       "  </thead>\n",
       "  <tbody>\n",
       "    <tr>\n",
       "      <th>0</th>\n",
       "      <td>2.327526</td>\n",
       "      <td>7.327260</td>\n",
       "      <td>10.909794</td>\n",
       "      <td>g</td>\n",
       "      <td>1</td>\n",
       "    </tr>\n",
       "    <tr>\n",
       "      <th>1</th>\n",
       "      <td>0.128880</td>\n",
       "      <td>2.412095</td>\n",
       "      <td>2.547748</td>\n",
       "      <td>p</td>\n",
       "      <td>0</td>\n",
       "    </tr>\n",
       "    <tr>\n",
       "      <th>2</th>\n",
       "      <td>1.436324</td>\n",
       "      <td>6.600719</td>\n",
       "      <td>22.627917</td>\n",
       "      <td>p</td>\n",
       "      <td>1</td>\n",
       "    </tr>\n",
       "    <tr>\n",
       "      <th>3</th>\n",
       "      <td>2.014618</td>\n",
       "      <td>6.939049</td>\n",
       "      <td>9.248719</td>\n",
       "      <td>r</td>\n",
       "      <td>1</td>\n",
       "    </tr>\n",
       "    <tr>\n",
       "      <th>4</th>\n",
       "      <td>1.227858</td>\n",
       "      <td>9.976824</td>\n",
       "      <td>18.906464</td>\n",
       "      <td>p</td>\n",
       "      <td>1</td>\n",
       "    </tr>\n",
       "    <tr>\n",
       "      <th>...</th>\n",
       "      <td>...</td>\n",
       "      <td>...</td>\n",
       "      <td>...</td>\n",
       "      <td>...</td>\n",
       "      <td>...</td>\n",
       "    </tr>\n",
       "    <tr>\n",
       "      <th>195</th>\n",
       "      <td>-0.907478</td>\n",
       "      <td>9.487626</td>\n",
       "      <td>2.898387</td>\n",
       "      <td>r</td>\n",
       "      <td>0</td>\n",
       "    </tr>\n",
       "    <tr>\n",
       "      <th>196</th>\n",
       "      <td>1.284137</td>\n",
       "      <td>0.740918</td>\n",
       "      <td>10.970663</td>\n",
       "      <td>r</td>\n",
       "      <td>0</td>\n",
       "    </tr>\n",
       "    <tr>\n",
       "      <th>197</th>\n",
       "      <td>2.214714</td>\n",
       "      <td>5.775563</td>\n",
       "      <td>13.947454</td>\n",
       "      <td>g</td>\n",
       "      <td>1</td>\n",
       "    </tr>\n",
       "    <tr>\n",
       "      <th>198</th>\n",
       "      <td>1.872437</td>\n",
       "      <td>4.844288</td>\n",
       "      <td>2.752800</td>\n",
       "      <td>p</td>\n",
       "      <td>0</td>\n",
       "    </tr>\n",
       "    <tr>\n",
       "      <th>199</th>\n",
       "      <td>3.161611</td>\n",
       "      <td>8.097934</td>\n",
       "      <td>-2.130330</td>\n",
       "      <td>r</td>\n",
       "      <td>0</td>\n",
       "    </tr>\n",
       "  </tbody>\n",
       "</table>\n",
       "<p>200 rows × 5 columns</p>\n",
       "</div>"
      ],
      "text/plain": [
       "           x1        x2         x3 x4  y\n",
       "0    2.327526  7.327260  10.909794  g  1\n",
       "1    0.128880  2.412095   2.547748  p  0\n",
       "2    1.436324  6.600719  22.627917  p  1\n",
       "3    2.014618  6.939049   9.248719  r  1\n",
       "4    1.227858  9.976824  18.906464  p  1\n",
       "..        ...       ...        ... .. ..\n",
       "195 -0.907478  9.487626   2.898387  r  0\n",
       "196  1.284137  0.740918  10.970663  r  0\n",
       "197  2.214714  5.775563  13.947454  g  1\n",
       "198  1.872437  4.844288   2.752800  p  0\n",
       "199  3.161611  8.097934  -2.130330  r  0\n",
       "\n",
       "[200 rows x 5 columns]"
      ]
     },
     "execution_count": 208,
     "metadata": {},
     "output_type": "execute_result"
    }
   ],
   "source": [
    "imputer1 = SimpleImputer(strategy='mean')\n",
    "imputer2 = SimpleImputer(strategy='most_frequent')\n",
    "data1 = pd.DataFrame(imputer1.fit_transform(data.drop(['x4'], axis=1)))\n",
    "data2 = pd.DataFrame(imputer2.fit_transform(data))\n",
    "df = data1.merge(data2, how='inner', left_on=data1.index, right_on=data2.index)\n",
    "df = df.drop(['key_0', '3_x', '0_y', '1_y', '2_y'], axis=1)\n",
    "df.columns = data.columns\n",
    "df"
   ]
  },
  {
   "cell_type": "code",
   "execution_count": 209,
   "metadata": {},
   "outputs": [
    {
     "data": {
      "text/html": [
       "<div>\n",
       "<style scoped>\n",
       "    .dataframe tbody tr th:only-of-type {\n",
       "        vertical-align: middle;\n",
       "    }\n",
       "\n",
       "    .dataframe tbody tr th {\n",
       "        vertical-align: top;\n",
       "    }\n",
       "\n",
       "    .dataframe thead th {\n",
       "        text-align: right;\n",
       "    }\n",
       "</style>\n",
       "<table border=\"1\" class=\"dataframe\">\n",
       "  <thead>\n",
       "    <tr style=\"text-align: right;\">\n",
       "      <th></th>\n",
       "      <th>x1</th>\n",
       "      <th>x2</th>\n",
       "      <th>x3</th>\n",
       "      <th>x4</th>\n",
       "      <th>y</th>\n",
       "    </tr>\n",
       "  </thead>\n",
       "  <tbody>\n",
       "    <tr>\n",
       "      <th>0</th>\n",
       "      <td>2.327526</td>\n",
       "      <td>7.327260</td>\n",
       "      <td>10.909794</td>\n",
       "      <td>0</td>\n",
       "      <td>1</td>\n",
       "    </tr>\n",
       "    <tr>\n",
       "      <th>1</th>\n",
       "      <td>0.128880</td>\n",
       "      <td>2.412095</td>\n",
       "      <td>2.547748</td>\n",
       "      <td>1</td>\n",
       "      <td>0</td>\n",
       "    </tr>\n",
       "    <tr>\n",
       "      <th>2</th>\n",
       "      <td>1.436324</td>\n",
       "      <td>6.600719</td>\n",
       "      <td>22.627917</td>\n",
       "      <td>1</td>\n",
       "      <td>1</td>\n",
       "    </tr>\n",
       "    <tr>\n",
       "      <th>3</th>\n",
       "      <td>2.014618</td>\n",
       "      <td>6.939049</td>\n",
       "      <td>9.248719</td>\n",
       "      <td>2</td>\n",
       "      <td>1</td>\n",
       "    </tr>\n",
       "    <tr>\n",
       "      <th>4</th>\n",
       "      <td>1.227858</td>\n",
       "      <td>9.976824</td>\n",
       "      <td>18.906464</td>\n",
       "      <td>1</td>\n",
       "      <td>1</td>\n",
       "    </tr>\n",
       "    <tr>\n",
       "      <th>...</th>\n",
       "      <td>...</td>\n",
       "      <td>...</td>\n",
       "      <td>...</td>\n",
       "      <td>...</td>\n",
       "      <td>...</td>\n",
       "    </tr>\n",
       "    <tr>\n",
       "      <th>195</th>\n",
       "      <td>-0.907478</td>\n",
       "      <td>9.487626</td>\n",
       "      <td>2.898387</td>\n",
       "      <td>2</td>\n",
       "      <td>0</td>\n",
       "    </tr>\n",
       "    <tr>\n",
       "      <th>196</th>\n",
       "      <td>1.284137</td>\n",
       "      <td>0.740918</td>\n",
       "      <td>10.970663</td>\n",
       "      <td>2</td>\n",
       "      <td>0</td>\n",
       "    </tr>\n",
       "    <tr>\n",
       "      <th>197</th>\n",
       "      <td>2.214714</td>\n",
       "      <td>5.775563</td>\n",
       "      <td>13.947454</td>\n",
       "      <td>0</td>\n",
       "      <td>1</td>\n",
       "    </tr>\n",
       "    <tr>\n",
       "      <th>198</th>\n",
       "      <td>1.872437</td>\n",
       "      <td>4.844288</td>\n",
       "      <td>2.752800</td>\n",
       "      <td>1</td>\n",
       "      <td>0</td>\n",
       "    </tr>\n",
       "    <tr>\n",
       "      <th>199</th>\n",
       "      <td>3.161611</td>\n",
       "      <td>8.097934</td>\n",
       "      <td>-2.130330</td>\n",
       "      <td>2</td>\n",
       "      <td>0</td>\n",
       "    </tr>\n",
       "  </tbody>\n",
       "</table>\n",
       "<p>200 rows × 5 columns</p>\n",
       "</div>"
      ],
      "text/plain": [
       "           x1        x2         x3  x4  y\n",
       "0    2.327526  7.327260  10.909794   0  1\n",
       "1    0.128880  2.412095   2.547748   1  0\n",
       "2    1.436324  6.600719  22.627917   1  1\n",
       "3    2.014618  6.939049   9.248719   2  1\n",
       "4    1.227858  9.976824  18.906464   1  1\n",
       "..        ...       ...        ...  .. ..\n",
       "195 -0.907478  9.487626   2.898387   2  0\n",
       "196  1.284137  0.740918  10.970663   2  0\n",
       "197  2.214714  5.775563  13.947454   0  1\n",
       "198  1.872437  4.844288   2.752800   1  0\n",
       "199  3.161611  8.097934  -2.130330   2  0\n",
       "\n",
       "[200 rows x 5 columns]"
      ]
     },
     "execution_count": 209,
     "metadata": {},
     "output_type": "execute_result"
    }
   ],
   "source": [
    "categorical = LabelEncoder()\n",
    "df['x4'] = categorical.fit_transform(df['x4'])\n",
    "df"
   ]
  },
  {
   "cell_type": "markdown",
   "metadata": {},
   "source": [
    "With numeric features in our final dataset, we can check out the statistics of the data."
   ]
  },
  {
   "cell_type": "code",
   "execution_count": 222,
   "metadata": {},
   "outputs": [
    {
     "data": {
      "text/html": [
       "<div>\n",
       "<style scoped>\n",
       "    .dataframe tbody tr th:only-of-type {\n",
       "        vertical-align: middle;\n",
       "    }\n",
       "\n",
       "    .dataframe tbody tr th {\n",
       "        vertical-align: top;\n",
       "    }\n",
       "\n",
       "    .dataframe thead th {\n",
       "        text-align: right;\n",
       "    }\n",
       "</style>\n",
       "<table border=\"1\" class=\"dataframe\">\n",
       "  <thead>\n",
       "    <tr style=\"text-align: right;\">\n",
       "      <th></th>\n",
       "      <th>x1</th>\n",
       "      <th>x2</th>\n",
       "      <th>x3</th>\n",
       "      <th>x4</th>\n",
       "      <th>y</th>\n",
       "    </tr>\n",
       "  </thead>\n",
       "  <tbody>\n",
       "    <tr>\n",
       "      <th>count</th>\n",
       "      <td>200.000000</td>\n",
       "      <td>200.000000</td>\n",
       "      <td>200.000000</td>\n",
       "      <td>200.000000</td>\n",
       "      <td>200.000000</td>\n",
       "    </tr>\n",
       "    <tr>\n",
       "      <th>mean</th>\n",
       "      <td>1.021377</td>\n",
       "      <td>5.132787</td>\n",
       "      <td>8.935687</td>\n",
       "      <td>1.120000</td>\n",
       "      <td>0.285000</td>\n",
       "    </tr>\n",
       "    <tr>\n",
       "      <th>std</th>\n",
       "      <td>0.972991</td>\n",
       "      <td>2.721206</td>\n",
       "      <td>7.009133</td>\n",
       "      <td>0.824012</td>\n",
       "      <td>0.452547</td>\n",
       "    </tr>\n",
       "    <tr>\n",
       "      <th>min</th>\n",
       "      <td>-1.258023</td>\n",
       "      <td>0.085340</td>\n",
       "      <td>-8.673874</td>\n",
       "      <td>0.000000</td>\n",
       "      <td>0.000000</td>\n",
       "    </tr>\n",
       "    <tr>\n",
       "      <th>25%</th>\n",
       "      <td>0.340965</td>\n",
       "      <td>2.876553</td>\n",
       "      <td>3.448023</td>\n",
       "      <td>0.000000</td>\n",
       "      <td>0.000000</td>\n",
       "    </tr>\n",
       "    <tr>\n",
       "      <th>50%</th>\n",
       "      <td>0.999916</td>\n",
       "      <td>5.235823</td>\n",
       "      <td>8.165976</td>\n",
       "      <td>1.000000</td>\n",
       "      <td>0.000000</td>\n",
       "    </tr>\n",
       "    <tr>\n",
       "      <th>75%</th>\n",
       "      <td>1.670055</td>\n",
       "      <td>7.316269</td>\n",
       "      <td>14.043083</td>\n",
       "      <td>2.000000</td>\n",
       "      <td>1.000000</td>\n",
       "    </tr>\n",
       "    <tr>\n",
       "      <th>max</th>\n",
       "      <td>4.009522</td>\n",
       "      <td>9.976824</td>\n",
       "      <td>30.092361</td>\n",
       "      <td>2.000000</td>\n",
       "      <td>1.000000</td>\n",
       "    </tr>\n",
       "  </tbody>\n",
       "</table>\n",
       "</div>"
      ],
      "text/plain": [
       "               x1          x2          x3          x4           y\n",
       "count  200.000000  200.000000  200.000000  200.000000  200.000000\n",
       "mean     1.021377    5.132787    8.935687    1.120000    0.285000\n",
       "std      0.972991    2.721206    7.009133    0.824012    0.452547\n",
       "min     -1.258023    0.085340   -8.673874    0.000000    0.000000\n",
       "25%      0.340965    2.876553    3.448023    0.000000    0.000000\n",
       "50%      0.999916    5.235823    8.165976    1.000000    0.000000\n",
       "75%      1.670055    7.316269   14.043083    2.000000    1.000000\n",
       "max      4.009522    9.976824   30.092361    2.000000    1.000000"
      ]
     },
     "execution_count": 222,
     "metadata": {},
     "output_type": "execute_result"
    }
   ],
   "source": [
    "df['y'] = df['y'].astype('int')\n",
    "df.describe()"
   ]
  },
  {
   "cell_type": "markdown",
   "metadata": {},
   "source": [
    "We can now make a pairplot of the data to search for any obvious patterns or important features in the data. The categorical feature gives some line-like plots, while the other scatter plots don't reveal any distinct separation."
   ]
  },
  {
   "cell_type": "code",
   "execution_count": 238,
   "metadata": {},
   "outputs": [
    {
     "data": {
      "text/plain": [
       "<seaborn.axisgrid.PairGrid at 0x1b4f282c7c8>"
      ]
     },
     "execution_count": 238,
     "metadata": {},
     "output_type": "execute_result"
    },
    {
     "data": {
      "image/png": "[encoded data removed]",
      "text/plain": [
       "<Figure size 762.375x720 with 20 Axes>"
      ]
     },
     "metadata": {
      "needs_background": "light"
     },
     "output_type": "display_data"
    }
   ],
   "source": [
    "sns.pairplot(df, hue='y', palette='coolwarm')"
   ]
  },
  {
   "cell_type": "markdown",
   "metadata": {},
   "source": [
    "Now let's split the data into train and test sets and get a baseline performance from an SVM classifier."
   ]
  },
  {
   "cell_type": "code",
   "execution_count": 131,
   "metadata": {},
   "outputs": [],
   "source": [
    "X_train, X_test, y_train, y_test = train_test_split(df.drop(['y'], axis=1), df['y'], test_size=0.2)"
   ]
  },
  {
   "cell_type": "code",
   "execution_count": 132,
   "metadata": {},
   "outputs": [
    {
     "name": "stdout",
     "output_type": "stream",
     "text": [
      "The model classified 87.5000% of the train set correctly\n",
      "The model classified 77.5000% of the test set correctly\n"
     ]
    }
   ],
   "source": [
    "svm = SVC()\n",
    "svm.fit(X_train, y_train)\n",
    "train_score = svm.score(X_train, y_train)\n",
    "test_score = svm.score(X_test, y_test)\n",
    "print('The model classified {:.4f}% of the train set correctly'.format(train_score*100))\n",
    "print('The model classified {:.4f}% of the test set correctly'.format(test_score*100))"
   ]
  },
  {
   "cell_type": "markdown",
   "metadata": {},
   "source": [
    "The model seems to do pretty well. To improve the performance, we can tune some hyperparameters. For this, let's use the scikit-learn class `RandomizedSearchCV` which will test out hyperparameters for the model with cross validation."
   ]
  },
  {
   "cell_type": "code",
   "execution_count": 133,
   "metadata": {},
   "outputs": [
    {
     "name": "stdout",
     "output_type": "stream",
     "text": [
      "{'gamma': 0.001, 'C': 100.0}\n",
      "The model classified 89.3750% of the train set correctly\n",
      "The model classified 80.0000% of the test set correctly\n"
     ]
    }
   ],
   "source": [
    "from sklearn.model_selection import RandomizedSearchCV\n",
    "\n",
    "parameters = {'gamma':np.logspace(-3, 3, 7), 'C':np.logspace(-3, 3, 7)}\n",
    "model = RandomizedSearchCV(svm, parameters)\n",
    "model.fit(X_train, y_train)\n",
    "print(model.best_params_)\n",
    "train_score = model.score(X_train, y_train)\n",
    "test_score = model.score(X_test, y_test)\n",
    "print('The model classified {:.4f}% of the train set correctly'.format(train_score*100))\n",
    "print('The model classified {:.4f}% of the test set correctly'.format(test_score*100))"
   ]
  },
  {
   "cell_type": "markdown",
   "metadata": {},
   "source": [
    "We can make one more change to improve our model performance even more. We can preprocess a little bit more with scaling and run the hyperparameter search again."
   ]
  },
  {
   "cell_type": "code",
   "execution_count": 134,
   "metadata": {},
   "outputs": [],
   "source": [
    "mms = MinMaxScaler()\n",
    "X_train = mms.fit_transform(X_train)\n",
    "X_test = mms.transform(X_test)"
   ]
  },
  {
   "cell_type": "code",
   "execution_count": 135,
   "metadata": {},
   "outputs": [
    {
     "name": "stdout",
     "output_type": "stream",
     "text": [
      "{'gamma': 1.0, 'C': 1000.0}\n",
      "The model classified 100.0000% of the train set correctly\n",
      "The model classified 97.5000% of the test set correctly\n"
     ]
    }
   ],
   "source": [
    "parameters = {'gamma':np.logspace(-3, 3, 7), 'C':np.logspace(-3, 3, 7)}\n",
    "model = RandomizedSearchCV(svm, parameters)\n",
    "model.fit(X_train, y_train)\n",
    "print(model.best_params_)\n",
    "clf = model.best_estimator_\n",
    "train_score = clf.score(X_train, y_train)\n",
    "test_score = clf.score(X_test, y_test)\n",
    "print('The model classified {:.4f}% of the train set correctly'.format(train_score*100))\n",
    "print('The model classified {:.4f}% of the test set correctly'.format(test_score*100))"
   ]
  },
  {
   "cell_type": "code",
   "execution_count": 193,
   "metadata": {},
   "outputs": [
    {
     "name": "stdout",
     "output_type": "stream",
     "text": [
      "{'n_estimators': 50, 'max_depth': 7}\n",
      "The model classified 100.0000% of the train set correctly\n",
      "The model classified 90.0000% of the test set correctly\n"
     ]
    }
   ],
   "source": [
    "from sklearn.ensemble import RandomForestClassifier\n",
    "\n",
    "rfc = RandomForestClassifier()\n",
    "parameters = {'n_estimators':[50, 100, 200, 300, 400], 'max_depth':[4, 5, 6, 7, 8]}\n",
    "model = RandomizedSearchCV(rfc, parameters)\n",
    "model.fit(X_train, y_train)\n",
    "print(model.best_params_)\n",
    "rfc = model.best_estimator_\n",
    "rfc.fit(X_train, y_train)\n",
    "train_score = rfc.score(X_train, y_train)\n",
    "test_score = rfc.score(X_test, y_test)\n",
    "print('The model classified {:.4f}% of the train set correctly'.format(train_score*100))\n",
    "print('The model classified {:.4f}% of the test set correctly'.format(test_score*100))"
   ]
  },
  {
   "cell_type": "markdown",
   "metadata": {},
   "source": [
    "Now we can either try out more models or check out which features are important for the model. We will plot them out in a bar chart and in a heatmap."
   ]
  },
  {
   "cell_type": "code",
   "execution_count": 194,
   "metadata": {},
   "outputs": [
    {
     "data": {
      "text/plain": [
       "array([0.09730833, 0.33919525, 0.43828317, 0.12521325])"
      ]
     },
     "execution_count": 194,
     "metadata": {},
     "output_type": "execute_result"
    }
   ],
   "source": [
    "rfc.feature_importances_"
   ]
  },
  {
   "cell_type": "code",
   "execution_count": 199,
   "metadata": {},
   "outputs": [
    {
     "data": {
      "image/png": "[encoded data removed]",
      "text/plain": [
       "<Figure size 432x288 with 1 Axes>"
      ]
     },
     "metadata": {
      "needs_background": "light"
     },
     "output_type": "display_data"
    }
   ],
   "source": [
    "features = len(df.columns)\n",
    "x_pos = np.arange(1, features, 1)\n",
    "imps = rfc.feature_importances_\n",
    "fig, ax = plt.subplots()\n",
    "ax.barh(x_pos, sorted(imps), color='#58ec74')\n",
    "plt.yticks([1, 2, 3, 4], labels=['x1', 'x4', 'x2', 'x3'])\n",
    "ax.spines['right'].set_visible(False)\n",
    "ax.spines['top'].set_visible(False)\n",
    "plt.title('Feature Importance for Random Forest')\n",
    "plt.show()"
   ]
  },
  {
   "cell_type": "code",
   "execution_count": 200,
   "metadata": {},
   "outputs": [
    {
     "data": {
      "image/png": "[encoded data removed]",
      "text/plain": [
       "<Figure size 432x288 with 1 Axes>"
      ]
     },
     "metadata": {
      "needs_background": "light"
     },
     "output_type": "display_data"
    }
   ],
   "source": [
    "fig, ax = plt.subplots()\n",
    "hm = sns.heatmap([imps], square=True, cmap=plt.cm.Blues, cbar=False)\n",
    "ax.tick_params(left=False, bottom=False)\n",
    "ax.set_xticklabels(['x1', 'x2', 'x3', 'x4'])\n",
    "ax.set_yticklabels([])\n",
    "plt.title('Heatmap of Feature Importance')\n",
    "plt.show()"
   ]
  },
  {
   "cell_type": "code",
   "execution_count": null,
   "metadata": {},
   "outputs": [],
   "source": []
  }
 ],
 "metadata": {
  "kernelspec": {
   "display_name": "Python 3",
   "language": "python",
   "name": "python3"
  },
  "language_info": {
   "codemirror_mode": {
    "name": "ipython",
    "version": 3
   },
   "file_extension": ".py",
   "mimetype": "text/x-python",
   "name": "python",
   "nbconvert_exporter": "python",
   "pygments_lexer": "ipython3",
   "version": "3.7.4"
  }
 },
 "nbformat": 4,
 "nbformat_minor": 4
}
